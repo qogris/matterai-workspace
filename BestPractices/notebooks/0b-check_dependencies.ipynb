{
 "cells": [
  {
   "cell_type": "markdown",
   "metadata": {},
   "source": [
    "# Check that libraries are installed\n",
    "\n",
    "This notebook checks to see if you have the correct version of Python as well as all necessary libraries installed.\n",
    "\n",
    "Check the [main README file](https://github.com/anthony-wang/BestPractices/blob/master/README.md) for instructions if anything is missing."
   ]
  },
  {
   "cell_type": "code",
   "execution_count": 2,
   "metadata": {},
   "outputs": [
    {
     "name": "stdout",
     "output_type": "stream",
     "text": [
      "Using python in /home/opc/anaconda3/envs/matterai\n",
      "3.9.21 | packaged by conda-forge | (main, Dec  5 2024, 13:41:27) \n",
      "[GCC 13.3.0]\n",
      "[ OK ] numpy version 2.0.2\n",
      "[ OK ] pandas version 2.2.3\n",
      "[ OK ] matplotlib version 3.9.4\n",
      "[ OK ] seaborn version 0.13.2\n",
      "[ OK ] sklearn version 1.6.1\n",
      "[ OK ] scipy version 1.13.1\n",
      "[ OK ] tqdm version 4.67.1\n",
      "[ OK ] jupyter_client version 8.6.3\n",
      "[ OK ] ipywidgets version 8.1.5\n"
     ]
    },
    {
     "name": "stderr",
     "output_type": "stream",
     "text": [
      "/tmp/ipykernel_523530/1390842380.py:43: DeprecationWarning: distutils Version classes are deprecated. Use packaging.version instead.\n",
      "  pyversion = Version(sys.version)\n",
      "/tmp/ipykernel_523530/1390842380.py:29: DeprecationWarning: distutils Version classes are deprecated. Use packaging.version instead.\n",
      "  if Version(ver) < min_ver:\n"
     ]
    },
    {
     "name": "stdout",
     "output_type": "stream",
     "text": [
      "[ OK ] torch version 2.5.1\n"
     ]
    },
    {
     "name": "stderr",
     "output_type": "stream",
     "text": [
      "/tmp/ipykernel_523530/1390842380.py:29: DeprecationWarning: distutils Version classes are deprecated. Use packaging.version instead.\n",
      "  if Version(ver) < min_ver:\n"
     ]
    }
   ],
   "source": [
    "from __future__ import print_function\n",
    "from distutils.version import LooseVersion as Version\n",
    "import sys\n",
    "\n",
    "try:\n",
    "    import curses\n",
    "    curses.setupterm()\n",
    "    assert curses.tigetnum(\"colors\") > 2\n",
    "    OK = \"\\x1b[1;%dm[ OK ]\\x1b[0m\" % (30 + curses.COLOR_GREEN)\n",
    "    FAIL = \"\\x1b[1;%dm[FAIL]\\x1b[0m\" % (30 + curses.COLOR_RED)\n",
    "except:\n",
    "    OK = '[ OK ]'\n",
    "    FAIL = '[FAIL]'\n",
    "\n",
    "try:\n",
    "    import importlib\n",
    "except ImportError:\n",
    "    print(FAIL, \"Python version 3.4 is required,\"\n",
    "                \" but %s is installed.\" % sys.version)\n",
    "\n",
    "def import_version(pkg, min_ver):\n",
    "    mod = None\n",
    "    try:\n",
    "        mod = importlib.import_module(pkg)\n",
    "        if pkg in {'PIL'}:\n",
    "            ver = mod.VERSION\n",
    "        else:\n",
    "            ver = mod.__version__\n",
    "        if Version(ver) < min_ver:\n",
    "            print(FAIL, \"%s version %s or higher required, but %s installed.\"\n",
    "                  % (lib, min_ver, ver))\n",
    "        else:\n",
    "            print(OK, '%s version %s' % (pkg, ver))\n",
    "    except ImportError as imp_err_msg:\n",
    "        print(FAIL, 'Error in importing %s: %s' % (pkg, imp_err_msg))\n",
    "    except AttributeError as att_err_msg:\n",
    "        print(FAIL, 'Error in reading attribute of %s: %s' % (pkg, att_err_msg))\n",
    "    return mod\n",
    "\n",
    "# first check the python version\n",
    "print('Using python in', sys.prefix)\n",
    "print(sys.version)\n",
    "pyversion = Version(sys.version)\n",
    "if pyversion >= \"3\":\n",
    "    if pyversion < \"3.7\":\n",
    "        print(FAIL, \"Python version > 3.7 is required,\"\n",
    "                    \" but %s is installed.\\n\" % sys.version)\n",
    "elif pyversion < \"3\":\n",
    "    print(FAIL, \"Python version > 3.7 is required,\"\n",
    "                \" but %s is installed.\\n\" % sys.version)\n",
    "else:\n",
    "    print(FAIL, \"Unknown Python version: %s\\n\" % sys.version)\n",
    "\n",
    "requirements = {'numpy': '1.18.0',\n",
    "                'pandas': '1.0.0',\n",
    "                #'pandas_profiling': '2.4.0',\n",
    "                'matplotlib': '3.2.0',\n",
    "                'seaborn': '0.10.0',\n",
    "                'sklearn': '0.22.0',\n",
    "                'scipy': '1.4.0',\n",
    "                'tqdm': '4.43.0',\n",
    "                'jupyter_client': '6.0.0',\n",
    "                'ipywidgets': '7.5.0',\n",
    "                'torch': '1.3.0',}\n",
    "\n",
    "# now check the dependencies\n",
    "for lib, required_version in list(requirements.items()):\n",
    "    import_version(lib, required_version)"
   ]
  }
 ],
 "metadata": {
  "kernelspec": {
   "display_name": "matterai",
   "language": "python",
   "name": "python3"
  },
  "language_info": {
   "codemirror_mode": {
    "name": "ipython",
    "version": 3
   },
   "file_extension": ".py",
   "mimetype": "text/x-python",
   "name": "python",
   "nbconvert_exporter": "python",
   "pygments_lexer": "ipython3",
   "version": "3.9.21"
  }
 },
 "nbformat": 4,
 "nbformat_minor": 4
}
