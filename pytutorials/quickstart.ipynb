{
 "cells": [
  {
   "cell_type": "markdown",
   "id": "5cc7ace4-56d2-43d3-968f-be439b486717",
   "metadata": {},
   "source": [
    "# This section runs through the API for common tasks in machine learning. Refer to the links in each section to dive deeper."
   ]
  },
  {
   "cell_type": "code",
   "execution_count": 1,
   "id": "c5429cea-d988-41a6-b812-9448301b7282",
   "metadata": {},
   "outputs": [],
   "source": [
    "import torch\n",
    "from torch import nn\n",
    "from torch.utils.data import DataLoader\n",
    "from torchvision import datasets\n",
    "from torchvision.transforms import ToTensor\n",
    "import matplotlib.pyplot as plt"
   ]
  },
  {
   "cell_type": "markdown",
   "id": "b9adecdc-90a9-4583-806a-460098cc89ef",
   "metadata": {},
   "source": [
    "## Download training data from open datasets."
   ]
  },
  {
   "cell_type": "code",
   "execution_count": 2,
   "id": "7de9bc3f-9772-4535-a17e-8ea198ea8896",
   "metadata": {},
   "outputs": [],
   "source": [
    "# Download training data from open datasets.\n",
    "training_data = datasets.FashionMNIST(\n",
    "    root=\"data\",\n",
    "    train=True,\n",
    "    download=True,\n",
    "    transform=ToTensor(),\n",
    ")\n",
    "\n",
    "# Download test data from open datasets.\n",
    "test_data = datasets.FashionMNIST(\n",
    "    root=\"data\",\n",
    "    train=False,\n",
    "    download=True,\n",
    "    transform=ToTensor(),\n",
    ")"
   ]
  },
  {
   "cell_type": "code",
   "execution_count": 3,
   "id": "c25a56c0-7b82-44ce-a7e1-5ffc629acffb",
   "metadata": {},
   "outputs": [
    {
     "name": "stdout",
     "output_type": "stream",
     "text": [
      "Shape of X [N, C, H, W]: torch.Size([64, 1, 28, 28])\n",
      "Shape of y: torch.Size([64]) torch.int64\n"
     ]
    }
   ],
   "source": [
    "batch_size = 64\n",
    "\n",
    "# Create data loaders.\n",
    "train_dataloader = DataLoader(training_data, batch_size=batch_size)\n",
    "test_dataloader = DataLoader(test_data, batch_size=batch_size)\n",
    "\n",
    "for X, y in test_dataloader:\n",
    "    print(f\"Shape of X [N, C, H, W]: {X.shape}\")\n",
    "    print(f\"Shape of y: {y.shape} {y.dtype}\")\n",
    "    break"
   ]
  },
  {
   "cell_type": "markdown",
   "id": "774223b9-738e-41e8-a999-8f753565c4dd",
   "metadata": {},
   "source": [
    "## Define a nn model"
   ]
  },
  {
   "cell_type": "code",
   "execution_count": 4,
   "id": "7e32cd8a-28b0-472d-8446-0c0d39155265",
   "metadata": {},
   "outputs": [
    {
     "name": "stdout",
     "output_type": "stream",
     "text": [
      "Using cpu device\n",
      "NeuralNetwork(\n",
      "  (flatten): Flatten(start_dim=1, end_dim=-1)\n",
      "  (linear_relu_stack): Sequential(\n",
      "    (0): Linear(in_features=784, out_features=512, bias=True)\n",
      "    (1): ReLU()\n",
      "    (2): Linear(in_features=512, out_features=512, bias=True)\n",
      "    (3): ReLU()\n",
      "    (4): Linear(in_features=512, out_features=10, bias=True)\n",
      "  )\n",
      ")\n"
     ]
    }
   ],
   "source": [
    "# Get cpu, gpu or mps device for training.\n",
    "device = (\n",
    "    \"cuda\"\n",
    "    if torch.cuda.is_available()\n",
    "    else \"mps\"\n",
    "    if torch.backends.mps.is_available()\n",
    "    else \"cpu\"\n",
    ")\n",
    "print(f\"Using {device} device\")\n",
    "\n",
    "# Define model\n",
    "class NeuralNetwork(nn.Module):\n",
    "    def __init__(self):\n",
    "        super().__init__()\n",
    "        self.flatten = nn.Flatten()\n",
    "        self.linear_relu_stack = nn.Sequential(\n",
    "            nn.Linear(28*28, 512),\n",
    "            nn.ReLU(),\n",
    "            nn.Linear(512, 512),\n",
    "            nn.ReLU(),\n",
    "            nn.Linear(512, 10)\n",
    "        )\n",
    "\n",
    "    def forward(self, x):\n",
    "        x = self.flatten(x)\n",
    "        logits = self.linear_relu_stack(x)\n",
    "        return logits\n",
    "\n",
    "model = NeuralNetwork().to(device)\n",
    "print(model)"
   ]
  },
  {
   "cell_type": "markdown",
   "id": "1b25f1fd-73c2-4a92-a219-932082862362",
   "metadata": {},
   "source": [
    "## Define Train and Test function"
   ]
  },
  {
   "cell_type": "code",
   "execution_count": 5,
   "id": "d5ce660e-7ad3-4039-8455-e7f3bb7b6da3",
   "metadata": {},
   "outputs": [],
   "source": [
    "loss_fn = nn.CrossEntropyLoss()\n",
    "optimizer = torch.optim.SGD(model.parameters(), lr=1e-3)"
   ]
  },
  {
   "cell_type": "code",
   "execution_count": 6,
   "id": "69e5105a-6d78-4727-a784-d7b6dafa0dcd",
   "metadata": {},
   "outputs": [],
   "source": [
    "def train(dataloader, model, loss_fn, optimizer):\n",
    "    size = len(dataloader.dataset)\n",
    "    model.train()\n",
    "    for batch, (X, y) in enumerate(dataloader):\n",
    "        X, y = X.to(device), y.to(device)\n",
    "\n",
    "        # Compute prediction error\n",
    "        pred = model(X)\n",
    "        loss = loss_fn(pred, y)\n",
    "\n",
    "        # Backpropagation\n",
    "        loss.backward()\n",
    "        optimizer.step()\n",
    "        optimizer.zero_grad()\n",
    "\n",
    "        if batch % 100 == 0:\n",
    "            loss, current = loss.item(), (batch + 1) * len(X)\n",
    "            print(f\"loss: {loss:>7f}  [{current:>5d}/{size:>5d}]\")"
   ]
  },
  {
   "cell_type": "code",
   "execution_count": null,
   "id": "93b687b7-b338-448b-ae90-b4397df7a362",
   "metadata": {},
   "outputs": [],
   "source": []
  },
  {
   "cell_type": "code",
   "execution_count": 7,
   "id": "31584483-d7e0-457b-a0f7-77e7d0484abe",
   "metadata": {},
   "outputs": [],
   "source": [
    "def test(dataloader, model, loss_fn):\n",
    "    size = len(dataloader.dataset)\n",
    "    num_batches = len(dataloader)\n",
    "    model.eval()\n",
    "    test_loss, correct = 0, 0\n",
    "    with torch.no_grad():\n",
    "        for X, y in dataloader:\n",
    "            X, y = X.to(device), y.to(device)\n",
    "            pred = model(X)\n",
    "            test_loss += loss_fn(pred, y).item()\n",
    "            correct += (pred.argmax(1) == y).type(torch.float).sum().item()\n",
    "    test_loss /= num_batches\n",
    "    correct /= size\n",
    "    print(f\"Test Error: \\n Accuracy: {(100*correct):>0.1f}%, Avg loss: {test_loss:>8f} \\n\")"
   ]
  },
  {
   "cell_type": "code",
   "execution_count": 8,
   "id": "a4c42e2d-adc0-456d-a76b-ae9a98aeffd3",
   "metadata": {},
   "outputs": [
    {
     "name": "stdout",
     "output_type": "stream",
     "text": [
      "Epoch 1\n",
      "-------------------------------\n",
      "loss: 2.313143  [   64/60000]\n",
      "loss: 2.296134  [ 6464/60000]\n",
      "loss: 2.275872  [12864/60000]\n",
      "loss: 2.263767  [19264/60000]\n",
      "loss: 2.243840  [25664/60000]\n",
      "loss: 2.219219  [32064/60000]\n",
      "loss: 2.226775  [38464/60000]\n",
      "loss: 2.199745  [44864/60000]\n",
      "loss: 2.194628  [51264/60000]\n",
      "loss: 2.161166  [57664/60000]\n",
      "Test Error: \n",
      " Accuracy: 44.6%, Avg loss: 2.156185 \n",
      "\n",
      "Epoch 2\n",
      "-------------------------------\n",
      "loss: 2.169538  [   64/60000]\n",
      "loss: 2.161133  [ 6464/60000]\n",
      "loss: 2.106159  [12864/60000]\n",
      "loss: 2.120198  [19264/60000]\n",
      "loss: 2.066679  [25664/60000]\n",
      "loss: 2.005331  [32064/60000]\n",
      "loss: 2.032545  [38464/60000]\n",
      "loss: 1.963278  [44864/60000]\n",
      "loss: 1.965516  [51264/60000]\n",
      "loss: 1.892806  [57664/60000]\n",
      "Test Error: \n",
      " Accuracy: 58.4%, Avg loss: 1.893729 \n",
      "\n",
      "Epoch 3\n",
      "-------------------------------\n",
      "loss: 1.920060  [   64/60000]\n",
      "loss: 1.898477  [ 6464/60000]\n",
      "loss: 1.785246  [12864/60000]\n",
      "loss: 1.828848  [19264/60000]\n",
      "loss: 1.707017  [25664/60000]\n",
      "loss: 1.654317  [32064/60000]\n",
      "loss: 1.676495  [38464/60000]\n",
      "loss: 1.581846  [44864/60000]\n",
      "loss: 1.601186  [51264/60000]\n",
      "loss: 1.496265  [57664/60000]\n",
      "Test Error: \n",
      " Accuracy: 61.2%, Avg loss: 1.517271 \n",
      "\n",
      "Epoch 4\n",
      "-------------------------------\n",
      "loss: 1.574481  [   64/60000]\n",
      "loss: 1.546865  [ 6464/60000]\n",
      "loss: 1.398612  [12864/60000]\n",
      "loss: 1.477364  [19264/60000]\n",
      "loss: 1.343481  [25664/60000]\n",
      "loss: 1.338960  [32064/60000]\n",
      "loss: 1.355269  [38464/60000]\n",
      "loss: 1.284107  [44864/60000]\n",
      "loss: 1.313844  [51264/60000]\n",
      "loss: 1.218136  [57664/60000]\n",
      "Test Error: \n",
      " Accuracy: 63.3%, Avg loss: 1.244292 \n",
      "\n",
      "Epoch 5\n",
      "-------------------------------\n",
      "loss: 1.314464  [   64/60000]\n",
      "loss: 1.301417  [ 6464/60000]\n",
      "loss: 1.136005  [12864/60000]\n",
      "loss: 1.249378  [19264/60000]\n",
      "loss: 1.113604  [25664/60000]\n",
      "loss: 1.140264  [32064/60000]\n",
      "loss: 1.163971  [38464/60000]\n",
      "loss: 1.105368  [44864/60000]\n",
      "loss: 1.139264  [51264/60000]\n",
      "loss: 1.061728  [57664/60000]\n",
      "Test Error: \n",
      " Accuracy: 64.7%, Avg loss: 1.079386 \n",
      "\n",
      "Done!\n"
     ]
    }
   ],
   "source": [
    "epochs = 5\n",
    "for t in range(epochs):\n",
    "    print(f\"Epoch {t+1}\\n-------------------------------\")\n",
    "    train(train_dataloader, model, loss_fn, optimizer)\n",
    "    test(test_dataloader, model, loss_fn)\n",
    "print(\"Done!\")"
   ]
  },
  {
   "cell_type": "code",
   "execution_count": 9,
   "id": "b4f7c076-605d-4fd3-9cfe-df2cae034c6c",
   "metadata": {},
   "outputs": [
    {
     "name": "stdout",
     "output_type": "stream",
     "text": [
      "Saved PyTorch Model State to model.pth\n"
     ]
    }
   ],
   "source": [
    "torch.save(model.state_dict(), \"model.pth\")\n",
    "print(\"Saved PyTorch Model State to model.pth\")"
   ]
  },
  {
   "cell_type": "code",
   "execution_count": 10,
   "id": "ff9f8483-91d2-4824-9db5-8f32d6030587",
   "metadata": {},
   "outputs": [
    {
     "data": {
      "text/plain": [
       "<All keys matched successfully>"
      ]
     },
     "execution_count": 10,
     "metadata": {},
     "output_type": "execute_result"
    }
   ],
   "source": [
    "model = NeuralNetwork().to(device)\n",
    "model.load_state_dict(torch.load(\"model.pth\", weights_only=True))"
   ]
  },
  {
   "cell_type": "code",
   "execution_count": 11,
   "id": "b31b6280-929e-4fd7-8d45-45dfe2dea233",
   "metadata": {},
   "outputs": [
    {
     "name": "stdout",
     "output_type": "stream",
     "text": [
      "Predicted: \"Ankle boot\", Actual: \"Ankle boot\"\n"
     ]
    }
   ],
   "source": [
    "classes = [\n",
    "    \"T-shirt/top\",\n",
    "    \"Trouser\",\n",
    "    \"Pullover\",\n",
    "    \"Dress\",\n",
    "    \"Coat\",\n",
    "    \"Sandal\",\n",
    "    \"Shirt\",\n",
    "    \"Sneaker\",\n",
    "    \"Bag\",\n",
    "    \"Ankle boot\",\n",
    "]\n",
    "\n",
    "model.eval()\n",
    "x, y = test_data[0][0], test_data[0][1]\n",
    "with torch.no_grad():\n",
    "    x = x.to(device)\n",
    "    pred = model(x)\n",
    "    predicted, actual = classes[pred[0].argmax(0)], classes[y]\n",
    "    print(f'Predicted: \"{predicted}\", Actual: \"{actual}\"')"
   ]
  },
  {
   "cell_type": "code",
   "execution_count": null,
   "id": "39e83a8d-6e92-4675-8b1f-a37636e0f79b",
   "metadata": {},
   "outputs": [],
   "source": []
  }
 ],
 "metadata": {
  "kernelspec": {
   "display_name": "Python 3 (ipykernel)",
   "language": "python",
   "name": "python3"
  },
  "language_info": {
   "codemirror_mode": {
    "name": "ipython",
    "version": 3
   },
   "file_extension": ".py",
   "mimetype": "text/x-python",
   "name": "python",
   "nbconvert_exporter": "python",
   "pygments_lexer": "ipython3",
   "version": "3.8.19"
  }
 },
 "nbformat": 4,
 "nbformat_minor": 5
}
