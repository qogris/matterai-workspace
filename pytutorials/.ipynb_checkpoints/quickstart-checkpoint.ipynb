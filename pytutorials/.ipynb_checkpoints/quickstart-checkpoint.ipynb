{
 "cells": [
  {
   "cell_type": "markdown",
   "id": "5cc7ace4-56d2-43d3-968f-be439b486717",
   "metadata": {},
   "source": [
    "# Import torch"
   ]
  },
  {
   "cell_type": "code",
   "execution_count": 10,
   "id": "c5429cea-d988-41a6-b812-9448301b7282",
   "metadata": {},
   "outputs": [],
   "source": [
    "import torch\n",
    "from torch import nn\n",
    "from torch.utils.data import DataLoader\n",
    "from torchvision import datasets\n",
    "from torchvision.transforms import ToTensor\n",
    "import matplotlib.pyplot as plt"
   ]
  },
  {
   "cell_type": "markdown",
   "id": "b9adecdc-90a9-4583-806a-460098cc89ef",
   "metadata": {},
   "source": [
    "# Load data from datasets"
   ]
  },
  {
   "cell_type": "code",
   "execution_count": 11,
   "id": "7de9bc3f-9772-4535-a17e-8ea198ea8896",
   "metadata": {},
   "outputs": [],
   "source": [
    "# Download training data from open datasets.\n",
    "training_data = datasets.FashionMNIST(\n",
    "    root=\"data\",\n",
    "    train=True,\n",
    "    download=True,\n",
    "    transform=ToTensor(),\n",
    ")\n",
    "\n",
    "# Download test data from open datasets.\n",
    "test_data = datasets.FashionMNIST(\n",
    "    root=\"data\",\n",
    "    train=False,\n",
    "    download=True,\n",
    "    transform=ToTensor(),\n",
    ")"
   ]
  },
  {
   "cell_type": "code",
   "execution_count": 12,
   "id": "c25a56c0-7b82-44ce-a7e1-5ffc629acffb",
   "metadata": {},
   "outputs": [
    {
     "name": "stdout",
     "output_type": "stream",
     "text": [
      "Shape of X [N, C, H, W]: torch.Size([64, 1, 28, 28])\n",
      "Shape of y: torch.Size([64]) torch.int64\n"
     ]
    }
   ],
   "source": [
    "batch_size = 64\n",
    "\n",
    "# Create data loaders.\n",
    "train_dataloader = DataLoader(training_data, batch_size=batch_size)\n",
    "test_dataloader = DataLoader(test_data, batch_size=batch_size)\n",
    "\n",
    "for X, y in test_dataloader:\n",
    "    print(f\"Shape of X [N, C, H, W]: {X.shape}\")\n",
    "    print(f\"Shape of y: {y.shape} {y.dtype}\")\n",
    "    break"
   ]
  },
  {
   "cell_type": "markdown",
   "id": "774223b9-738e-41e8-a999-8f753565c4dd",
   "metadata": {},
   "source": [
    "## define a model"
   ]
  },
  {
   "cell_type": "code",
   "execution_count": 13,
   "id": "7e32cd8a-28b0-472d-8446-0c0d39155265",
   "metadata": {},
   "outputs": [
    {
     "name": "stdout",
     "output_type": "stream",
     "text": [
      "Using cpu device\n",
      "NeuralNetwork(\n",
      "  (flatten): Flatten(start_dim=1, end_dim=-1)\n",
      "  (linear_relu_stack): Sequential(\n",
      "    (0): Linear(in_features=784, out_features=512, bias=True)\n",
      "    (1): ReLU()\n",
      "    (2): Linear(in_features=512, out_features=512, bias=True)\n",
      "    (3): ReLU()\n",
      "    (4): Linear(in_features=512, out_features=10, bias=True)\n",
      "  )\n",
      ")\n"
     ]
    }
   ],
   "source": [
    "# Get cpu, gpu or mps device for training.\n",
    "device = (\n",
    "    \"cuda\"\n",
    "    if torch.cuda.is_available()\n",
    "    else \"mps\"\n",
    "    if torch.backends.mps.is_available()\n",
    "    else \"cpu\"\n",
    ")\n",
    "print(f\"Using {device} device\")\n",
    "\n",
    "# Define model\n",
    "class NeuralNetwork(nn.Module):\n",
    "    def __init__(self):\n",
    "        super().__init__()\n",
    "        self.flatten = nn.Flatten()\n",
    "        self.linear_relu_stack = nn.Sequential(\n",
    "            nn.Linear(28*28, 512),\n",
    "            nn.ReLU(),\n",
    "            nn.Linear(512, 512),\n",
    "            nn.ReLU(),\n",
    "            nn.Linear(512, 10)\n",
    "        )\n",
    "\n",
    "    def forward(self, x):\n",
    "        x = self.flatten(x)\n",
    "        logits = self.linear_relu_stack(x)\n",
    "        return logits\n",
    "\n",
    "model = NeuralNetwork().to(device)\n",
    "print(model)"
   ]
  },
  {
   "cell_type": "code",
   "execution_count": 14,
   "id": "d5ce660e-7ad3-4039-8455-e7f3bb7b6da3",
   "metadata": {},
   "outputs": [],
   "source": [
    "loss_fn = nn.CrossEntropyLoss()\n",
    "optimizer = torch.optim.SGD(model.parameters(), lr=1e-3)"
   ]
  },
  {
   "cell_type": "code",
   "execution_count": 15,
   "id": "69e5105a-6d78-4727-a784-d7b6dafa0dcd",
   "metadata": {},
   "outputs": [],
   "source": [
    "def train(dataloader, model, loss_fn, optimizer):\n",
    "    size = len(dataloader.dataset)\n",
    "    model.train()\n",
    "    for batch, (X, y) in enumerate(dataloader):\n",
    "        X, y = X.to(device), y.to(device)\n",
    "\n",
    "        # Compute prediction error\n",
    "        pred = model(X)\n",
    "        loss = loss_fn(pred, y)\n",
    "\n",
    "        # Backpropagation\n",
    "        loss.backward()\n",
    "        optimizer.step()\n",
    "        optimizer.zero_grad()\n",
    "\n",
    "        if batch % 100 == 0:\n",
    "            loss, current = loss.item(), (batch + 1) * len(X)\n",
    "            print(f\"loss: {loss:>7f}  [{current:>5d}/{size:>5d}]\")"
   ]
  },
  {
   "cell_type": "code",
   "execution_count": 16,
   "id": "31584483-d7e0-457b-a0f7-77e7d0484abe",
   "metadata": {},
   "outputs": [],
   "source": [
    "def test(dataloader, model, loss_fn):\n",
    "    size = len(dataloader.dataset)\n",
    "    num_batches = len(dataloader)\n",
    "    model.eval()\n",
    "    test_loss, correct = 0, 0\n",
    "    with torch.no_grad():\n",
    "        for X, y in dataloader:\n",
    "            X, y = X.to(device), y.to(device)\n",
    "            pred = model(X)\n",
    "            test_loss += loss_fn(pred, y).item()\n",
    "            correct += (pred.argmax(1) == y).type(torch.float).sum().item()\n",
    "    test_loss /= num_batches\n",
    "    correct /= size\n",
    "    print(f\"Test Error: \\n Accuracy: {(100*correct):>0.1f}%, Avg loss: {test_loss:>8f} \\n\")"
   ]
  },
  {
   "cell_type": "code",
   "execution_count": 17,
   "id": "a4c42e2d-adc0-456d-a76b-ae9a98aeffd3",
   "metadata": {},
   "outputs": [
    {
     "name": "stdout",
     "output_type": "stream",
     "text": [
      "Epoch 1\n",
      "-------------------------------\n",
      "loss: 2.297274  [   64/60000]\n",
      "loss: 2.290587  [ 6464/60000]\n",
      "loss: 2.267478  [12864/60000]\n",
      "loss: 2.268106  [19264/60000]\n",
      "loss: 2.255182  [25664/60000]\n",
      "loss: 2.215522  [32064/60000]\n",
      "loss: 2.228564  [38464/60000]\n",
      "loss: 2.191582  [44864/60000]\n",
      "loss: 2.191195  [51264/60000]\n",
      "loss: 2.164997  [57664/60000]\n",
      "Test Error: \n",
      " Accuracy: 45.2%, Avg loss: 2.155732 \n",
      "\n",
      "Epoch 2\n",
      "-------------------------------\n",
      "loss: 2.161097  [   64/60000]\n",
      "loss: 2.154901  [ 6464/60000]\n",
      "loss: 2.092377  [12864/60000]\n",
      "loss: 2.118026  [19264/60000]\n",
      "loss: 2.068125  [25664/60000]\n",
      "loss: 1.992085  [32064/60000]\n",
      "loss: 2.034478  [38464/60000]\n",
      "loss: 1.946346  [44864/60000]\n",
      "loss: 1.957279  [51264/60000]\n",
      "loss: 1.896730  [57664/60000]\n",
      "Test Error: \n",
      " Accuracy: 52.3%, Avg loss: 1.885202 \n",
      "\n",
      "Epoch 3\n",
      "-------------------------------\n",
      "loss: 1.909315  [   64/60000]\n",
      "loss: 1.885632  [ 6464/60000]\n",
      "loss: 1.759605  [12864/60000]\n",
      "loss: 1.819485  [19264/60000]\n",
      "loss: 1.710199  [25664/60000]\n",
      "loss: 1.643160  [32064/60000]\n",
      "loss: 1.689394  [38464/60000]\n",
      "loss: 1.577447  [44864/60000]\n",
      "loss: 1.613575  [51264/60000]\n",
      "loss: 1.521358  [57664/60000]\n",
      "Test Error: \n",
      " Accuracy: 61.5%, Avg loss: 1.528147 \n",
      "\n",
      "Epoch 4\n",
      "-------------------------------\n",
      "loss: 1.582825  [   64/60000]\n",
      "loss: 1.558271  [ 6464/60000]\n",
      "loss: 1.400075  [12864/60000]\n",
      "loss: 1.489450  [19264/60000]\n",
      "loss: 1.374397  [25664/60000]\n",
      "loss: 1.351953  [32064/60000]\n",
      "loss: 1.380934  [38464/60000]\n",
      "loss: 1.297793  [44864/60000]\n",
      "loss: 1.341629  [51264/60000]\n",
      "loss: 1.247580  [57664/60000]\n",
      "Test Error: \n",
      " Accuracy: 63.6%, Avg loss: 1.268876 \n",
      "\n",
      "Epoch 5\n",
      "-------------------------------\n",
      "loss: 1.333768  [   64/60000]\n",
      "loss: 1.325997  [ 6464/60000]\n",
      "loss: 1.154046  [12864/60000]\n",
      "loss: 1.270129  [19264/60000]\n",
      "loss: 1.148674  [25664/60000]\n",
      "loss: 1.158912  [32064/60000]\n",
      "loss: 1.184037  [38464/60000]\n",
      "loss: 1.118934  [44864/60000]\n",
      "loss: 1.167414  [51264/60000]\n",
      "loss: 1.083924  [57664/60000]\n",
      "Test Error: \n",
      " Accuracy: 64.7%, Avg loss: 1.102723 \n",
      "\n",
      "Done!\n"
     ]
    }
   ],
   "source": [
    "epochs = 5\n",
    "for t in range(epochs):\n",
    "    print(f\"Epoch {t+1}\\n-------------------------------\")\n",
    "    train(train_dataloader, model, loss_fn, optimizer)\n",
    "    test(test_dataloader, model, loss_fn)\n",
    "print(\"Done!\")"
   ]
  },
  {
   "cell_type": "code",
   "execution_count": 18,
   "id": "b4f7c076-605d-4fd3-9cfe-df2cae034c6c",
   "metadata": {},
   "outputs": [
    {
     "name": "stdout",
     "output_type": "stream",
     "text": [
      "Saved PyTorch Model State to model.pth\n"
     ]
    }
   ],
   "source": [
    "torch.save(model.state_dict(), \"model.pth\")\n",
    "print(\"Saved PyTorch Model State to model.pth\")"
   ]
  },
  {
   "cell_type": "code",
   "execution_count": 19,
   "id": "ff9f8483-91d2-4824-9db5-8f32d6030587",
   "metadata": {},
   "outputs": [
    {
     "data": {
      "text/plain": [
       "<All keys matched successfully>"
      ]
     },
     "execution_count": 19,
     "metadata": {},
     "output_type": "execute_result"
    }
   ],
   "source": [
    "model = NeuralNetwork().to(device)\n",
    "model.load_state_dict(torch.load(\"model.pth\", weights_only=True))"
   ]
  },
  {
   "cell_type": "code",
   "execution_count": 20,
   "id": "b31b6280-929e-4fd7-8d45-45dfe2dea233",
   "metadata": {},
   "outputs": [
    {
     "name": "stdout",
     "output_type": "stream",
     "text": [
      "Predicted: \"Ankle boot\", Actual: \"Ankle boot\"\n"
     ]
    }
   ],
   "source": [
    "classes = [\n",
    "    \"T-shirt/top\",\n",
    "    \"Trouser\",\n",
    "    \"Pullover\",\n",
    "    \"Dress\",\n",
    "    \"Coat\",\n",
    "    \"Sandal\",\n",
    "    \"Shirt\",\n",
    "    \"Sneaker\",\n",
    "    \"Bag\",\n",
    "    \"Ankle boot\",\n",
    "]\n",
    "\n",
    "model.eval()\n",
    "x, y = test_data[0][0], test_data[0][1]\n",
    "with torch.no_grad():\n",
    "    x = x.to(device)\n",
    "    pred = model(x)\n",
    "    predicted, actual = classes[pred[0].argmax(0)], classes[y]\n",
    "    print(f'Predicted: \"{predicted}\", Actual: \"{actual}\"')"
   ]
  }
 ],
 "metadata": {
  "kernelspec": {
   "display_name": "Python 3 (ipykernel)",
   "language": "python",
   "name": "python3"
  },
  "language_info": {
   "codemirror_mode": {
    "name": "ipython",
    "version": 3
   },
   "file_extension": ".py",
   "mimetype": "text/x-python",
   "name": "python",
   "nbconvert_exporter": "python",
   "pygments_lexer": "ipython3",
   "version": "3.8.19"
  }
 },
 "nbformat": 4,
 "nbformat_minor": 5
}
