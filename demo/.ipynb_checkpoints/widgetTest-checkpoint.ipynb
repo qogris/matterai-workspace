{
 "cells": [
  {
   "cell_type": "code",
   "execution_count": 3,
   "id": "e6918679-ada6-4ed9-a9af-c76a7c50e985",
   "metadata": {
    "tags": []
   },
   "outputs": [
    {
     "data": {
      "application/vnd.jupyter.widget-view+json": {
       "model_id": "b5aea5e3261e43a1af2479c28aa6aaf2",
       "version_major": 2,
       "version_minor": 0
      },
      "text/plain": [
       "IntSlider(value=5, description='Number:', max=10)"
      ]
     },
     "metadata": {},
     "output_type": "display_data"
    },
    {
     "data": {
      "application/vnd.jupyter.widget-view+json": {
       "model_id": "c7ae6b3a2f324dd78d898bd1e45a60fa",
       "version_major": 2,
       "version_minor": 0
      },
      "text/plain": [
       "Text(value='Type here', description='Input:')"
      ]
     },
     "metadata": {},
     "output_type": "display_data"
    },
    {
     "data": {
      "application/vnd.jupyter.widget-view+json": {
       "model_id": "e3e44794325f4058bbad9a7c70731384",
       "version_major": 2,
       "version_minor": 0
      },
      "text/plain": [
       "Button(button_style='success', description='Submit', icon='check', style=ButtonStyle(), tooltip='Click to subm…"
      ]
     },
     "metadata": {},
     "output_type": "display_data"
    }
   ],
   "source": [
    "import ipywidgets as widgets\n",
    "from IPython.display import display\n",
    "\n",
    "# 创建滑块控件\n",
    "slider = widgets.IntSlider(\n",
    "    value=5,\n",
    "    min=0,\n",
    "    max=10,\n",
    "    step=1,\n",
    "    description='Number:',\n",
    "    continuous_update=True\n",
    ")\n",
    "\n",
    "# 创建文本框控件\n",
    "text = widgets.Text(\n",
    "    value='Type here',\n",
    "    description='Input:',\n",
    "    disabled=False\n",
    ")\n",
    "\n",
    "# 创建按钮控件\n",
    "button = widgets.Button(\n",
    "    description='Submit',\n",
    "    button_style='success',\n",
    "    tooltip='Click to submit',\n",
    "    icon='check'\n",
    ")\n",
    "\n",
    "# 定义按钮点击事件的处理函数\n",
    "def on_button_click(b):\n",
    "    print(f'Slider value: {slider.value}')\n",
    "    print(f'Text input: {text.value}')\n",
    "\n",
    "# 将处理函数绑定到按钮的点击事件\n",
    "button.on_click(on_button_click)\n",
    "\n",
    "# 显示控件\n",
    "display(slider, text, button)\n",
    "\n"
   ]
  },
  {
   "cell_type": "markdown",
   "id": "99c89716-d86b-40ff-9f14-86c54b85913d",
   "metadata": {},
   "source": [
    "# hello"
   ]
  }
 ],
 "metadata": {
  "kernelspec": {
   "display_name": "Python 3 (ipykernel)",
   "language": "python",
   "name": "python3"
  },
  "language_info": {
   "codemirror_mode": {
    "name": "ipython",
    "version": 3
   },
   "file_extension": ".py",
   "mimetype": "text/x-python",
   "name": "python",
   "nbconvert_exporter": "python",
   "pygments_lexer": "ipython3",
   "version": "3.8.19"
  }
 },
 "nbformat": 4,
 "nbformat_minor": 5
}
