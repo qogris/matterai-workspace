{
 "cells": [
  {
   "cell_type": "code",
   "execution_count": 1,
   "metadata": {},
   "outputs": [
    {
     "name": "stdout",
     "output_type": "stream",
     "text": [
      "[1 2 3]\n"
     ]
    }
   ],
   "source": [
    "import numpy as np\n",
    "\n",
    "# Test cell\n",
    "a = np.array([1, 2, 3])\n",
    "print(a)"
   ]
  },
  {
   "cell_type": "code",
   "execution_count": 1,
   "metadata": {},
   "outputs": [
    {
     "name": "stdout",
     "output_type": "stream",
     "text": [
      "欢迎来到猜数字游戏！\n",
      "我已经想好了一个 1 到 100 之间的数字，猜猜看吧！\n",
      "猜小了！\n",
      "猜小了！\n",
      "猜大了！\n",
      "猜大了！\n",
      "猜大了！\n",
      "猜大了！\n",
      "猜小了！\n",
      "猜小了！\n",
      "猜小了！\n",
      "猜小了！\n",
      "猜大了！\n",
      "猜大了！\n",
      "猜大了！\n",
      "猜大了！\n",
      "猜大了！\n",
      "恭喜你！你猜对了！数字是 67，你用了 16 次尝试。\n"
     ]
    }
   ],
   "source": [
    "import random\n",
    "\n",
    "def guess_number():\n",
    "    number = random.randint(1, 100)\n",
    "    attempts = 0\n",
    "\n",
    "    print(\"欢迎来到猜数字游戏！\")\n",
    "    print(\"我已经想好了一个 1 到 100 之间的数字，猜猜看吧！\")\n",
    "\n",
    "    while True:\n",
    "        guess = int(input(\"请输入你的猜测: \"))\n",
    "        attempts += 1\n",
    "\n",
    "        if guess < number:\n",
    "            print(\"猜小了！\")\n",
    "        elif guess > number:\n",
    "            print(\"猜大了！\")\n",
    "        else:\n",
    "            print(f\"恭喜你！你猜对了！数字是 {number}，你用了 {attempts} 次尝试。\")\n",
    "            break\n",
    "\n",
    "guess_number()"
   ]
  },
  {
   "cell_type": "code",
   "execution_count": 3,
   "metadata": {},
   "outputs": [
    {
     "name": "stdout",
     "output_type": "stream",
     "text": [
      "欢迎来到石头剪刀布游戏！\n",
      "电脑选择了: 布\n",
      "你选择了: 布\n",
      "平局！\n"
     ]
    }
   ],
   "source": [
    "import random\n",
    "\n",
    "def rock_paper_scissors():\n",
    "    options = [\"石头\", \"剪刀\", \"布\"]\n",
    "    computer_choice = random.choice(options)\n",
    "\n",
    "    print(\"欢迎来到石头剪刀布游戏！\")\n",
    "    player_choice = input(\"请输入你的选择（石头、剪刀、布）: \")\n",
    "\n",
    "    print(f\"电脑选择了: {computer_choice}\")\n",
    "    print(f\"你选择了: {player_choice}\")\n",
    "\n",
    "    if player_choice == computer_choice:\n",
    "        print(\"平局！\")\n",
    "    elif (player_choice == \"石头\" and computer_choice == \"剪刀\") or \\\n",
    "         (player_choice == \"剪刀\" and computer_choice == \"布\") or \\\n",
    "         (player_choice == \"布\" and computer_choice == \"石头\"):\n",
    "        print(\"你赢了！\")\n",
    "    else:\n",
    "        print(\"你输了！\")\n",
    "\n",
    "rock_paper_scissors()"
   ]
  }
 ],
 "metadata": {
  "kernelspec": {
   "display_name": "pt",
   "language": "python",
   "name": "python3"
  },
  "language_info": {
   "codemirror_mode": {
    "name": "ipython",
    "version": 3
   },
   "file_extension": ".py",
   "mimetype": "text/x-python",
   "name": "python",
   "nbconvert_exporter": "python",
   "pygments_lexer": "ipython3",
   "version": "3.8.19"
  }
 },
 "nbformat": 4,
 "nbformat_minor": 2
}
